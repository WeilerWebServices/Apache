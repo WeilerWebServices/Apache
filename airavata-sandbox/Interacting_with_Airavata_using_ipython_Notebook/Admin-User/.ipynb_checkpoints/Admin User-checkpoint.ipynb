{
 "cells": [
  {
   "cell_type": "code",
   "execution_count": 1,
   "metadata": {
    "collapsed": false
   },
   "outputs": [],
   "source": [
    "import ConfigParser\n",
    "import pandas as pd\n",
    "import datetime\n",
    "from datetime import datetime\n",
    "import calendar\n",
    "import matplotlib.pyplot as plt\n",
    "%matplotlib inline\n",
    "conf = ConfigParser.RawConfigParser()\n",
    "conf.read('cli.properties')\n",
    "hostName = conf.get('AiravataServer', 'host')\n",
    "port = conf.get('AiravataServer', 'port')"
   ]
  },
  {
   "cell_type": "code",
   "execution_count": 2,
   "metadata": {
    "collapsed": false,
    "scrolled": false
   },
   "outputs": [
    {
     "name": "stdout",
     "output_type": "stream",
     "text": [
      "0.16.0\n",
      "0.16.0\n",
      "\n",
      "Welcome to Airavata CLI v0.0.1 - Wirtten in python\n",
      "\n",
      "\n",
      "None\n"
     ]
    }
   ],
   "source": [
    "from airavata_cli import AiravataCLI\n",
    "airavata_cli = AiravataCLI(hostName, int(port))\n",
    "print(airavata_cli.printVersion())"
   ]
  },
  {
   "cell_type": "markdown",
   "metadata": {
    "collapsed": false
   },
   "source": [
    "## Making Sure we are connected to the right Gateway"
   ]
  },
  {
   "cell_type": "code",
   "execution_count": 3,
   "metadata": {
    "collapsed": false
   },
   "outputs": [
    {
     "data": {
      "text/plain": [
       "[Gateway(gatewayId='Ultrascan_Production', emailAddress=None, domain=None, gatewayName='Ultrascan_Production')]"
      ]
     },
     "execution_count": 3,
     "metadata": {},
     "output_type": "execute_result"
    }
   ],
   "source": [
    "airavata_cli.get_gatewaylist()"
   ]
  },
  {
   "cell_type": "markdown",
   "metadata": {
    "collapsed": true
   },
   "source": [
    "## List of Resources the Gateway uses"
   ]
  },
  {
   "cell_type": "code",
   "execution_count": 4,
   "metadata": {
    "collapsed": false
   },
   "outputs": [
    {
     "data": {
      "text/plain": [
       "[('alamo.uthscsa.edu_4793b5cc-b991-4e43-b82d-17163b64ef29',\n",
       "  'alamo.uthscsa.edu'),\n",
       " ('Jureca_32098185-4396-4c11-afb7-26e991a03476', 'Jureca'),\n",
       " ('comet.sdsc.edu_f24b0bba-5230-498d-97e2-46a975ee035b', 'comet.sdsc.edu'),\n",
       " ('gordon.sdsc.edu_f9363997-4614-477f-847e-79d262ee8ef7', 'gordon.sdsc.edu'),\n",
       " ('ls5.tacc.utexas.edu_6dd67b08-30e5-4f74-bdd6-aad1f8310ecf',\n",
       "  'ls5.tacc.utexas.edu'),\n",
       " ('stampede.tacc.xsede.org_bf7958ae-f9d4-468b-b146-a201fb89bf12',\n",
       "  'stampede.tacc.xsede.org')]"
      ]
     },
     "execution_count": 4,
     "metadata": {},
     "output_type": "execute_result"
    }
   ],
   "source": [
    "airavata_cli.computer_resources().items()"
   ]
  },
  {
   "cell_type": "code",
   "execution_count": 5,
   "metadata": {
    "collapsed": false
   },
   "outputs": [
    {
     "data": {
      "text/html": [
       "<div>\n",
       "<table border=\"1\" class=\"dataframe\">\n",
       "  <thead>\n",
       "    <tr style=\"text-align: right;\">\n",
       "      <th></th>\n",
       "      <th>Id</th>\n",
       "      <th>Name</th>\n",
       "    </tr>\n",
       "  </thead>\n",
       "  <tbody>\n",
       "    <tr>\n",
       "      <th>0</th>\n",
       "      <td>alamo.uthscsa.edu_4793b5cc-b991-4e43-b82d-1716...</td>\n",
       "      <td>alamo.uthscsa.edu</td>\n",
       "    </tr>\n",
       "    <tr>\n",
       "      <th>1</th>\n",
       "      <td>Jureca_32098185-4396-4c11-afb7-26e991a03476</td>\n",
       "      <td>Jureca</td>\n",
       "    </tr>\n",
       "    <tr>\n",
       "      <th>2</th>\n",
       "      <td>comet.sdsc.edu_f24b0bba-5230-498d-97e2-46a975e...</td>\n",
       "      <td>comet.sdsc.edu</td>\n",
       "    </tr>\n",
       "    <tr>\n",
       "      <th>3</th>\n",
       "      <td>gordon.sdsc.edu_f9363997-4614-477f-847e-79d262...</td>\n",
       "      <td>gordon.sdsc.edu</td>\n",
       "    </tr>\n",
       "    <tr>\n",
       "      <th>4</th>\n",
       "      <td>ls5.tacc.utexas.edu_6dd67b08-30e5-4f74-bdd6-aa...</td>\n",
       "      <td>ls5.tacc.utexas.edu</td>\n",
       "    </tr>\n",
       "    <tr>\n",
       "      <th>5</th>\n",
       "      <td>stampede.tacc.xsede.org_bf7958ae-f9d4-468b-b14...</td>\n",
       "      <td>stampede.tacc.xsede.org</td>\n",
       "    </tr>\n",
       "  </tbody>\n",
       "</table>\n",
       "</div>"
      ],
      "text/plain": [
       "                                                  Id                     Name\n",
       "0  alamo.uthscsa.edu_4793b5cc-b991-4e43-b82d-1716...        alamo.uthscsa.edu\n",
       "1        Jureca_32098185-4396-4c11-afb7-26e991a03476                   Jureca\n",
       "2  comet.sdsc.edu_f24b0bba-5230-498d-97e2-46a975e...           comet.sdsc.edu\n",
       "3  gordon.sdsc.edu_f9363997-4614-477f-847e-79d262...          gordon.sdsc.edu\n",
       "4  ls5.tacc.utexas.edu_6dd67b08-30e5-4f74-bdd6-aa...      ls5.tacc.utexas.edu\n",
       "5  stampede.tacc.xsede.org_bf7958ae-f9d4-468b-b14...  stampede.tacc.xsede.org"
      ]
     },
     "execution_count": 5,
     "metadata": {},
     "output_type": "execute_result"
    }
   ],
   "source": [
    "compute_resources = pd.DataFrame(list(airavata_cli.computer_resources().items()), columns=[\"Id\", \"Name\"])\n",
    "compute_resources"
   ]
  },
  {
   "cell_type": "markdown",
   "metadata": {
    "collapsed": true
   },
   "source": [
    "## Some other custom functions which can be created"
   ]
  },
  {
   "cell_type": "code",
   "execution_count": 6,
   "metadata": {
    "collapsed": false,
    "scrolled": false
   },
   "outputs": [
    {
     "data": {
      "text/plain": [
       "[ApplicationInterfaceDescription(applicationName='Ultrascan', applicationInputs=[InputDataObjectType(userFriendlyDescription='Ultrascan HPC Input Tar File', name='Input_Tar_File', dataStaged=False, value='', applicationArgument='', isRequired=False, standardInput=False, requiredToAddedToCommandLine=True, type=3, inputOrder=1, metaData=''), InputDataObjectType(userFriendlyDescription='Batches for multi-wavelength data processing', name='Parallel_Group_Count', dataStaged=False, value='-mgroupcount=1', applicationArgument='', isRequired=False, standardInput=False, requiredToAddedToCommandLine=True, type=0, inputOrder=3, metaData=''), InputDataObjectType(userFriendlyDescription='Wall Clock Limit on the Compute Resource', name='Wall_Time', dataStaged=False, value='-walltime=60', applicationArgument='', isRequired=True, standardInput=False, requiredToAddedToCommandLine=True, type=0, inputOrder=2, metaData='')], applicationInterfaceId='Ultrascan_0ed937f6-26af-4c54-8064-3be082411e46', applicationDescription='Ultrascan Version 3 Interface', applicationOutputs=[OutputDataObjectType(dataMovement=True, name='output', value='output/analysis-results.tar', applicationArgument='', isRequired=True, searchQuery='', location='output', requiredToAddedToCommandLine=False, outputStreaming=False, type=3), OutputDataObjectType(dataMovement=True, name='Ultrascan-Standard-Error', value='', applicationArgument='', isRequired=True, searchQuery='', location='', requiredToAddedToCommandLine=False, outputStreaming=False, type=5), OutputDataObjectType(dataMovement=True, name='Ultrascan-Standard-Out', value='', applicationArgument='', isRequired=True, searchQuery='', location='', requiredToAddedToCommandLine=False, outputStreaming=False, type=4)], applicationModules=['Ultrascan_82282f1e-284f-4999-9beb-4620c485b03d']),\n",
       " ApplicationInterfaceDescription(applicationName='Ultrascan_Unicore', applicationInputs=[InputDataObjectType(userFriendlyDescription='', name='Input', dataStaged=False, value='', applicationArgument='', isRequired=True, standardInput=False, requiredToAddedToCommandLine=False, type=3, inputOrder=1, metaData=''), InputDataObjectType(userFriendlyDescription='', name='mgroupcount', dataStaged=False, value='-mgroupcount 1', applicationArgument='', isRequired=False, standardInput=False, requiredToAddedToCommandLine=True, type=0, inputOrder=2, metaData=''), InputDataObjectType(userFriendlyDescription='', name='US3INPUTARG', dataStaged=False, value='', applicationArgument='', isRequired=False, standardInput=False, requiredToAddedToCommandLine=True, type=0, inputOrder=4, metaData=''), InputDataObjectType(userFriendlyDescription='', name='walltime', dataStaged=False, value='-walltime 60', applicationArgument='', isRequired=False, standardInput=False, requiredToAddedToCommandLine=True, type=0, inputOrder=3, metaData='')], applicationInterfaceId='Ultrascan_Unicore_0e7f8522-6d75-41ba-8b09-0021e728679a', applicationDescription='Unicore Service', applicationOutputs=[OutputDataObjectType(dataMovement=True, name='Ultrascan-Unicore-Standard-Error', value='', applicationArgument='', isRequired=False, searchQuery='', location='', requiredToAddedToCommandLine=False, outputStreaming=False, type=5), OutputDataObjectType(dataMovement=True, name='Ultrascan-Unicore-Standard-Out', value='', applicationArgument='', isRequired=False, searchQuery='', location='', requiredToAddedToCommandLine=False, outputStreaming=False, type=4), OutputDataObjectType(dataMovement=True, name='US3OUT', value='analysis-results.tar', applicationArgument='', isRequired=True, searchQuery='', location='', requiredToAddedToCommandLine=False, outputStreaming=False, type=0)], applicationModules=['Ultrascan_Unicore_2471953d-5d87-4ffc-b0e6-b06c86c6206d'])]"
      ]
     },
     "execution_count": 6,
     "metadata": {},
     "output_type": "execute_result"
    }
   ],
   "source": [
    "airavata_cli.list_of_applications('Ultrascan_Production')"
   ]
  },
  {
   "cell_type": "code",
   "execution_count": 7,
   "metadata": {
    "collapsed": false,
    "scrolled": true
   },
   "outputs": [
    {
     "data": {
      "text/plain": [
       "[ApplicationModule(appModuleName='Ultrascan', appModuleVersion='Ultrascan Application', appModuleId='Ultrascan_82282f1e-284f-4999-9beb-4620c485b03d', appModuleDescription=''),\n",
       " ApplicationModule(appModuleName='Ultrascan_Unicore', appModuleVersion='', appModuleId='Ultrascan_Unicore_2471953d-5d87-4ffc-b0e6-b06c86c6206d', appModuleDescription='Ultrascan Unicore Application')]"
      ]
     },
     "execution_count": 7,
     "metadata": {},
     "output_type": "execute_result"
    }
   ],
   "source": [
    "airavata_cli.module_descriptions('Ultrascan_Production')     "
   ]
  },
  {
   "cell_type": "markdown",
   "metadata": {
    "collapsed": false
   },
   "source": [
    "##Setting the time parameters"
   ]
  },
  {
   "cell_type": "code",
   "execution_count": 8,
   "metadata": {
    "collapsed": true
   },
   "outputs": [],
   "source": [
    "start= datetime(2015,7,16,15,10)\n",
    "end= datetime(2016,7,17,11,59)\n",
    "fromTime = calendar.timegm(start.timetuple())\n",
    "toTime = calendar.timegm(end.timetuple())"
   ]
  },
  {
   "cell_type": "markdown",
   "metadata": {
    "collapsed": true
   },
   "source": [
    "## Getting the list of Experiments executed during the above mentioned period"
   ]
  },
  {
   "cell_type": "code",
   "execution_count": 9,
   "metadata": {
    "collapsed": false
   },
   "outputs": [],
   "source": [
    "ds=airavata_cli.experiment_statistics(\"Ultrascan_Production\", fromTime*1000, toTime*1000)\n",
    "#ds"
   ]
  },
  {
   "cell_type": "code",
   "execution_count": 10,
   "metadata": {
    "collapsed": false
   },
   "outputs": [
    {
     "data": {
      "text/html": [
       "<div>\n",
       "<table border=\"1\" class=\"dataframe\">\n",
       "  <thead>\n",
       "    <tr style=\"text-align: right;\">\n",
       "      <th></th>\n",
       "      <th>User Name</th>\n",
       "      <th>Name</th>\n",
       "      <th>Status Update</th>\n",
       "      <th>Resource Host ID</th>\n",
       "      <th>Project ID</th>\n",
       "      <th>Creation Time</th>\n",
       "      <th>Experiment ID</th>\n",
       "      <th>Execution ID</th>\n",
       "      <th>Gateway ID</th>\n",
       "      <th>Experiment Status</th>\n",
       "    </tr>\n",
       "  </thead>\n",
       "  <tbody>\n",
       "    <tr>\n",
       "      <th>0</th>\n",
       "      <td>Daniel_Krzizike_550162c5-88f4-5624-cd19-114778...</td>\n",
       "      <td>US3-AIRA</td>\n",
       "      <td>None</td>\n",
       "      <td>ls5.tacc.utexas.edu_6dd67b08-30e5-4f74-bdd6-aa...</td>\n",
       "      <td>Default_Project_4e1dede8-0925-47e6-b61c-966051...</td>\n",
       "      <td>1468618483000</td>\n",
       "      <td>US3-AIRA_36f4788f-240b-4119-aaed-18926be8165c</td>\n",
       "      <td>Ultrascan_0ed937f6-26af-4c54-8064-3be082411e46</td>\n",
       "      <td>Ultrascan_Production</td>\n",
       "      <td>COMPLETED</td>\n",
       "    </tr>\n",
       "    <tr>\n",
       "      <th>1</th>\n",
       "      <td>Paul_Willard_098ba7b6-274c-9fb4-4915-f7ecc0c7cc1f</td>\n",
       "      <td>US3-AIRA</td>\n",
       "      <td>None</td>\n",
       "      <td>ls5.tacc.utexas.edu_6dd67b08-30e5-4f74-bdd6-aa...</td>\n",
       "      <td>Default_Project_b884d629-32bf-4532-ae76-8366db...</td>\n",
       "      <td>1468616186000</td>\n",
       "      <td>US3-AIRA_408946e3-6104-48b3-a9dc-27ec03f45cb2</td>\n",
       "      <td>Ultrascan_0ed937f6-26af-4c54-8064-3be082411e46</td>\n",
       "      <td>Ultrascan_Production</td>\n",
       "      <td>COMPLETED</td>\n",
       "    </tr>\n",
       "    <tr>\n",
       "      <th>2</th>\n",
       "      <td>Paul_Willard_098ba7b6-274c-9fb4-4915-f7ecc0c7cc1f</td>\n",
       "      <td>US3-AIRA</td>\n",
       "      <td>None</td>\n",
       "      <td>ls5.tacc.utexas.edu_6dd67b08-30e5-4f74-bdd6-aa...</td>\n",
       "      <td>Default_Project_b884d629-32bf-4532-ae76-8366db...</td>\n",
       "      <td>1468615898000</td>\n",
       "      <td>US3-AIRA_270ed9fe-f0f9-4c00-936f-72c994cb2125</td>\n",
       "      <td>Ultrascan_0ed937f6-26af-4c54-8064-3be082411e46</td>\n",
       "      <td>Ultrascan_Production</td>\n",
       "      <td>COMPLETED</td>\n",
       "    </tr>\n",
       "    <tr>\n",
       "      <th>3</th>\n",
       "      <td>Daniel_Krzizike_550162c5-88f4-5624-cd19-114778...</td>\n",
       "      <td>US3-AIRA</td>\n",
       "      <td>None</td>\n",
       "      <td>ls5.tacc.utexas.edu_6dd67b08-30e5-4f74-bdd6-aa...</td>\n",
       "      <td>Default_Project_4e1dede8-0925-47e6-b61c-966051...</td>\n",
       "      <td>1468612459000</td>\n",
       "      <td>US3-AIRA_c23effff-bf70-4d77-968a-5982919eb3a0</td>\n",
       "      <td>Ultrascan_0ed937f6-26af-4c54-8064-3be082411e46</td>\n",
       "      <td>Ultrascan_Production</td>\n",
       "      <td>COMPLETED</td>\n",
       "    </tr>\n",
       "    <tr>\n",
       "      <th>4</th>\n",
       "      <td>Daniel_Krzizike_550162c5-88f4-5624-cd19-114778...</td>\n",
       "      <td>US3-AIRA</td>\n",
       "      <td>None</td>\n",
       "      <td>ls5.tacc.utexas.edu_6dd67b08-30e5-4f74-bdd6-aa...</td>\n",
       "      <td>Default_Project_4e1dede8-0925-47e6-b61c-966051...</td>\n",
       "      <td>1468612433000</td>\n",
       "      <td>US3-AIRA_2e65cd86-b4f2-4514-99c2-68c6cec880f4</td>\n",
       "      <td>Ultrascan_0ed937f6-26af-4c54-8064-3be082411e46</td>\n",
       "      <td>Ultrascan_Production</td>\n",
       "      <td>COMPLETED</td>\n",
       "    </tr>\n",
       "  </tbody>\n",
       "</table>\n",
       "</div>"
      ],
      "text/plain": [
       "                                           User Name      Name Status Update  \\\n",
       "0  Daniel_Krzizike_550162c5-88f4-5624-cd19-114778...  US3-AIRA          None   \n",
       "1  Paul_Willard_098ba7b6-274c-9fb4-4915-f7ecc0c7cc1f  US3-AIRA          None   \n",
       "2  Paul_Willard_098ba7b6-274c-9fb4-4915-f7ecc0c7cc1f  US3-AIRA          None   \n",
       "3  Daniel_Krzizike_550162c5-88f4-5624-cd19-114778...  US3-AIRA          None   \n",
       "4  Daniel_Krzizike_550162c5-88f4-5624-cd19-114778...  US3-AIRA          None   \n",
       "\n",
       "                                    Resource Host ID  \\\n",
       "0  ls5.tacc.utexas.edu_6dd67b08-30e5-4f74-bdd6-aa...   \n",
       "1  ls5.tacc.utexas.edu_6dd67b08-30e5-4f74-bdd6-aa...   \n",
       "2  ls5.tacc.utexas.edu_6dd67b08-30e5-4f74-bdd6-aa...   \n",
       "3  ls5.tacc.utexas.edu_6dd67b08-30e5-4f74-bdd6-aa...   \n",
       "4  ls5.tacc.utexas.edu_6dd67b08-30e5-4f74-bdd6-aa...   \n",
       "\n",
       "                                          Project ID  Creation Time  \\\n",
       "0  Default_Project_4e1dede8-0925-47e6-b61c-966051...  1468618483000   \n",
       "1  Default_Project_b884d629-32bf-4532-ae76-8366db...  1468616186000   \n",
       "2  Default_Project_b884d629-32bf-4532-ae76-8366db...  1468615898000   \n",
       "3  Default_Project_4e1dede8-0925-47e6-b61c-966051...  1468612459000   \n",
       "4  Default_Project_4e1dede8-0925-47e6-b61c-966051...  1468612433000   \n",
       "\n",
       "                                   Experiment ID  \\\n",
       "0  US3-AIRA_36f4788f-240b-4119-aaed-18926be8165c   \n",
       "1  US3-AIRA_408946e3-6104-48b3-a9dc-27ec03f45cb2   \n",
       "2  US3-AIRA_270ed9fe-f0f9-4c00-936f-72c994cb2125   \n",
       "3  US3-AIRA_c23effff-bf70-4d77-968a-5982919eb3a0   \n",
       "4  US3-AIRA_2e65cd86-b4f2-4514-99c2-68c6cec880f4   \n",
       "\n",
       "                                     Execution ID            Gateway ID  \\\n",
       "0  Ultrascan_0ed937f6-26af-4c54-8064-3be082411e46  Ultrascan_Production   \n",
       "1  Ultrascan_0ed937f6-26af-4c54-8064-3be082411e46  Ultrascan_Production   \n",
       "2  Ultrascan_0ed937f6-26af-4c54-8064-3be082411e46  Ultrascan_Production   \n",
       "3  Ultrascan_0ed937f6-26af-4c54-8064-3be082411e46  Ultrascan_Production   \n",
       "4  Ultrascan_0ed937f6-26af-4c54-8064-3be082411e46  Ultrascan_Production   \n",
       "\n",
       "  Experiment Status  \n",
       "0         COMPLETED  \n",
       "1         COMPLETED  \n",
       "2         COMPLETED  \n",
       "3         COMPLETED  \n",
       "4         COMPLETED  "
      ]
     },
     "execution_count": 10,
     "metadata": {},
     "output_type": "execute_result"
    }
   ],
   "source": [
    "All_Experiments = []\n",
    "for i in ds.allExperiments:\n",
    "    All_Experiments.append([i.userName, i.name, i.statusUpdateTime, i.resourceHostId, i.projectId, i.creationTime, \n",
    "                                i.experimentId, i.executionId, i.gatewayId, i.experimentStatus])\n",
    "labels = [\"User Name\", \"Name\", \"Status Update\", \"Resource Host ID\", \"Project ID\", \"Creation Time\", \"Experiment ID\", \n",
    "          \"Execution ID\", \"Gateway ID\", \"Experiment Status\"]\n",
    "df = pd.DataFrame(data=All_Experiments, columns=labels)\n",
    "df.head()"
   ]
  },
  {
   "cell_type": "code",
   "execution_count": 11,
   "metadata": {
    "collapsed": false
   },
   "outputs": [
    {
     "data": {
      "text/plain": [
       "(4124, 10)"
      ]
     },
     "execution_count": 11,
     "metadata": {},
     "output_type": "execute_result"
    }
   ],
   "source": [
    "df.shape"
   ]
  },
  {
   "cell_type": "markdown",
   "metadata": {
    "collapsed": true
   },
   "source": [
    "## Calculating percentage use of resources"
   ]
  },
  {
   "cell_type": "code",
   "execution_count": 12,
   "metadata": {
    "collapsed": true
   },
   "outputs": [],
   "source": [
    "ls5_cn = sum([1 for x, row in df.iterrows() if row[3] == 'ls5.tacc.utexas.edu_6dd67b08-30e5-4f74-bdd6-aad1f8310ecf' and row[9] == 'COMPLETED'])\n",
    "stampede_cn = sum([1 for x, row in df.iterrows() if row[3] == 'stampede.tacc.xsede.org_bf7958ae-f9d4-468b-b146-a201fb89bf12' and row[9] == 'COMPLETED'])\n",
    "comet_cn = sum([1 for x, row in df.iterrows() if row[3] == 'comet.sdsc.edu_f24b0bba-5230-498d-97e2-46a975ee035b' and row[9] == 'COMPLETED'])\n",
    "gordon_cn= sum([1 for x, row in df.iterrows() if row[3] == 'gordon.sdsc.edu_f9363997-4614-477f-847e-79d262ee8ef7' and row[9] == 'COMPLETED'])\n",
    "#jureca_cn = sum([1 for x, row in df.iterrows() if row[3] == 'Jureca_32098185-4396-4c11-afb7-26e991a03476' and row[9] == 'COMPLETED'])\n",
    "alamo_cn = sum([1 for x, row in df.iterrows() if row[3] == 'alamo.uthscsa.edu_4793b5cc-b991-4e43-b82d-17163b64ef29' and row[9] == 'COMPLETED'])"
   ]
  },
  {
   "cell_type": "code",
   "execution_count": 13,
   "metadata": {
    "collapsed": false
   },
   "outputs": [
    {
     "data": {
      "image/png": "[encoded data removed]",
      "text/plain": [
       "<matplotlib.figure.Figure at 0x946fba8>"
      ]
     },
     "metadata": {},
     "output_type": "display_data"
    }
   ],
   "source": [
    "slices= [ls5_cn,stampede_cn,comet_cn,gordon_cn,alamo_cn]\n",
    "cols = ['c','m','r','w','y']\n",
    "Hosts= [\"lonestar\",\"stampede\",\"comet\",\"gordon\" , \"alamo\"]\n",
    "plt.pie(slices,\n",
    "        labels= Hosts,\n",
    "        colors=cols,\n",
    "        startangle=90,\n",
    "        shadow= False,\n",
    "        autopct='%1.1f%%')\n",
    "\n",
    "plt.title('Percentage Use by Resources')\n",
    "plt.show()"
   ]
  },
  {
   "cell_type": "markdown",
   "metadata": {
    "collapsed": true
   },
   "source": [
    "##Percentage failed by resources"
   ]
  },
  {
   "cell_type": "code",
   "execution_count": 14,
   "metadata": {
    "collapsed": true
   },
   "outputs": [],
   "source": [
    "ls5_fn = sum([1 for x, row in df.iterrows() if row[3] == 'ls5.tacc.utexas.edu_6dd67b08-30e5-4f74-bdd6-aad1f8310ecf' and row[9] == 'FAILED'])\n",
    "stampede_fn = sum([1 for x, row in df.iterrows() if row[3] == 'stampede.tacc.xsede.org_bf7958ae-f9d4-468b-b146-a201fb89bf12' and row[9] == 'FAILED'])\n",
    "comet_fn = sum([1 for x, row in df.iterrows() if row[3] == 'comet.sdsc.edu_f24b0bba-5230-498d-97e2-46a975ee035b' and row[9] == 'FAILED'])\n",
    "gordon_fn= sum([1 for x, row in df.iterrows() if row[3] == 'gordon.sdsc.edu_f9363997-4614-477f-847e-79d262ee8ef7' and row[9] == 'FAILED'])\n",
    "#jureca_fn = sum([1 for x, row in df.iterrows() if row[3] == 'Jureca_32098185-4396-4c11-afb7-26e991a03476' and row[9] == 'FAILED'])\n",
    "alamo_fn = sum([1 for x, row in df.iterrows() if row[3] == 'alamo.uthscsa.edu_4793b5cc-b991-4e43-b82d-17163b64ef29' and row[9] == 'FAILED'])"
   ]
  },
  {
   "cell_type": "code",
   "execution_count": 15,
   "metadata": {
    "collapsed": false
   },
   "outputs": [
    {
     "data": {
      "image/png": "[encoded data removed]",
      "text/plain": [
       "<matplotlib.figure.Figure at 0x97d1c88>"
      ]
     },
     "metadata": {},
     "output_type": "display_data"
    }
   ],
   "source": [
    "slices= [ls5_fn,stampede_fn,comet_fn,gordon_fn,alamo_fn]\n",
    "cols = ['c','m','r','w','y']\n",
    "Hosts= [\"lonestar\",\"stampede\",\"comet\",\"gordon\" , \"alamo\"]\n",
    "plt.pie(slices,\n",
    "        labels= Hosts,\n",
    "        colors=cols,\n",
    "        startangle=90,\n",
    "        shadow= False,\n",
    "        autopct='%1.1f%%')\n",
    "\n",
    "plt.title('Percentage failure by Resources')\n",
    "plt.show()"
   ]
  },
  {
   "cell_type": "markdown",
   "metadata": {
    "collapsed": true
   },
   "source": [
    "## Percentage cancelled by resources"
   ]
  },
  {
   "cell_type": "code",
   "execution_count": 16,
   "metadata": {
    "collapsed": true
   },
   "outputs": [],
   "source": [
    "ls5_xn = sum([1 for x, row in df.iterrows() if row[3] == 'ls5.tacc.utexas.edu_6dd67b08-30e5-4f74-bdd6-aad1f8310ecf' and row[9] == 'CANCELED'])\n",
    "stampede_xn = sum([1 for x, row in df.iterrows() if row[3] == 'stampede.tacc.xsede.org_bf7958ae-f9d4-468b-b146-a201fb89bf12' and row[9] == 'CANCELED'])\n",
    "comet_xn = sum([1 for x, row in df.iterrows() if row[3] == 'comet.sdsc.edu_f24b0bba-5230-498d-97e2-46a975ee035b' and row[9] == 'CANCELED'])\n",
    "gordon_xn= sum([1 for x, row in df.iterrows() if row[3] == 'gordon.sdsc.edu_f9363997-4614-477f-847e-79d262ee8ef7' and row[9] == 'CANCELED'])\n",
    "#jureca_xn = sum([1 for x, row in df.iterrows() if row[3] == 'Jureca_32098185-4396-4c11-afb7-26e991a03476' and row[9] == 'CANCELED'])\n",
    "alamo_xn = sum([1 for x, row in df.iterrows() if row[3] == 'alamo.uthscsa.edu_4793b5cc-b991-4e43-b82d-17163b64ef29' and row[9] == 'CANCELED'])"
   ]
  },
  {
   "cell_type": "code",
   "execution_count": 17,
   "metadata": {
    "collapsed": false
   },
   "outputs": [
    {
     "data": {
      "image/png": "[encoded data removed]",
      "text/plain": [
       "<matplotlib.figure.Figure at 0x97e6e48>"
      ]
     },
     "metadata": {},
     "output_type": "display_data"
    }
   ],
   "source": [
    "slices= [ls5_xn,stampede_xn,comet_xn,gordon_xn,alamo_xn]\n",
    "cols = ['c','m','r','w','y']\n",
    "Hosts= [\"lonestar\",\"stampede\",\"comet\",\"gordon\" , \"alamo\"]\n",
    "plt.pie(slices,\n",
    "        labels= Hosts,\n",
    "        colors=cols,\n",
    "        startangle=90,\n",
    "        shadow= False,\n",
    "        autopct='%1.1f%%')\n",
    "\n",
    "plt.title('Percentage canceled by Resources')\n",
    "plt.show()"
   ]
  },
  {
   "cell_type": "markdown",
   "metadata": {},
   "source": [
    "## Number of Experiments Canceled by a user"
   ]
  },
  {
   "cell_type": "code",
   "execution_count": 18,
   "metadata": {
    "collapsed": false
   },
   "outputs": [
    {
     "data": {
      "text/plain": [
       "0"
      ]
     },
     "execution_count": 18,
     "metadata": {},
     "output_type": "execute_result"
    }
   ],
   "source": [
    "number = sum([1 for x, row in df.iterrows() if row[0] == 'smarru' and row[9] == 'CANCELED'])\n",
    "number"
   ]
  },
  {
   "cell_type": "markdown",
   "metadata": {},
   "source": [
    "## Sorting users by the number of experiments cancelled/failed"
   ]
  },
  {
   "cell_type": "code",
   "execution_count": 19,
   "metadata": {
    "collapsed": false,
    "scrolled": true
   },
   "outputs": [
    {
     "data": {
      "text/plain": [
       "Daniel_Krzizike_550162c5-88f4-5624-cd19-1147783ec5ed        44\n",
       "Victoria_Saenz_3963bfc5-9a55-d8f4-35f2-a98819ba7825         36\n",
       "Uma_Muthurajan_912a2d20-e858-a4b4-fdbf-6cdf8ec8e182         18\n",
       "Shaoxiong_Tian_f3c15677-e1d3-c894-7539-005f6df5e1b6         18\n",
       "Borries_Demeler_02d0c21b-1adf-9414-c175-d005bb256320         9\n",
       "Akash_Bhattacharya_65724131-4b32-bec4-5974-aa29b945deaf      9\n",
       "Ge_Yu_8d9a3ed0-135a-c974-69f5-44beb56d182f                   6\n",
       "Aysha Kinjo_Demeler_6804fe7e-35ce-f604-3905-bb73330ef346     4\n",
       "Todd_Stone_8aee0ad6-f820-8584-f18a-9a0fa325fd34              4\n",
       "Chris_Pierini_1c0bf9ca-2756-f454-355c-fbce45017f8b           4\n",
       "Gary_Gorbet_84f540d7-3276-8894-a544-fae60062b41c             3\n",
       "Borries_Demeler_0b30314f-70d9-74d4-7564-d9684b1a9a13         3\n",
       "William_Dean_e199fd03-1b9a-a214-ad3f-1d25202091c9            3\n",
       "Chris_Pierini_36b27c6b-f5ad-3794-6d81-0038d249d19b           2\n",
       "Aysha_Demeler_09d108a4-4a6c-f884-e971-5ea68f402fde           1\n",
       "Claudius_Mundoma_e1c6c320-ca98-f704-255c-b44fd6642c4d        1\n",
       "KYUNG_SU_ad389f57-0594-bd44-3986-2ea1ebe42274                1\n",
       "Daniel_Krzizike_84d7ac3a-a900-aad4-790e-1797c3e2110d         1\n",
       "Borries_Demeler_7db4a2d1-66dc-6b44-3935-40bceaa3a9a3         1\n",
       "Todd_Stone_1768d08e-c06c-7224-a58d-32bbd9d685fb              1\n",
       "Name: User Name, dtype: int64"
      ]
     },
     "execution_count": 19,
     "metadata": {},
     "output_type": "execute_result"
    }
   ],
   "source": [
    "df[df['Experiment Status'] == 'CANCELED']['User Name'].value_counts().sort_values(ascending=False)"
   ]
  },
  {
   "cell_type": "markdown",
   "metadata": {},
   "source": [
    "##  Experiments Created by the hour of the day"
   ]
  },
  {
   "cell_type": "code",
   "execution_count": 20,
   "metadata": {
    "collapsed": false
   },
   "outputs": [],
   "source": [
    "df['hour_of_day'] = df['Creation Time'].apply(lambda time: datetime.utcfromtimestamp(time/1000).hour)"
   ]
  },
  {
   "cell_type": "code",
   "execution_count": 21,
   "metadata": {
    "collapsed": false
   },
   "outputs": [
    {
     "data": {
      "text/plain": [
       "<matplotlib.axes._subplots.AxesSubplot at 0x9a0f710>"
      ]
     },
     "execution_count": 21,
     "metadata": {},
     "output_type": "execute_result"
    },
    {
     "data": {
      "image/png": "[encoded data removed]",
      "text/plain": [
       "<matplotlib.figure.Figure at 0x971f9b0>"
      ]
     },
     "metadata": {},
     "output_type": "display_data"
    }
   ],
   "source": [
    "df['hour_of_day'].value_counts().sort_index().plot('bar')"
   ]
  },
  {
   "cell_type": "markdown",
   "metadata": {
    "collapsed": true
   },
   "source": [
    "## Experiments failed by the hour of the day"
   ]
  },
  {
   "cell_type": "code",
   "execution_count": 22,
   "metadata": {
    "collapsed": false
   },
   "outputs": [
    {
     "data": {
      "text/plain": [
       "<matplotlib.axes._subplots.AxesSubplot at 0x971f7b8>"
      ]
     },
     "execution_count": 22,
     "metadata": {},
     "output_type": "execute_result"
    },
    {
     "data": {
      "image/png": "[encoded data removed]",
      "text/plain": [
       "<matplotlib.figure.Figure at 0x9886160>"
      ]
     },
     "metadata": {},
     "output_type": "display_data"
    }
   ],
   "source": [
    "df[df['Experiment Status'] == 'FAILED']['hour_of_day'].value_counts().sort_index().plot('bar')"
   ]
  },
  {
   "cell_type": "markdown",
   "metadata": {
    "collapsed": true
   },
   "source": [
    "## Experiments canceled by the hour of the day"
   ]
  }
 ],
 "metadata": {
  "kernelspec": {
   "display_name": "Python 2",
   "language": "python",
   "name": "python2"
  },
  "language_info": {
   "codemirror_mode": {
    "name": "ipython",
    "version": 2
   },
   "file_extension": ".py",
   "mimetype": "text/x-python",
   "name": "python",
   "nbconvert_exporter": "python",
   "pygments_lexer": "ipython2",
   "version": "2.7.12"
  }
 },
 "nbformat": 4,
 "nbformat_minor": 0
}
